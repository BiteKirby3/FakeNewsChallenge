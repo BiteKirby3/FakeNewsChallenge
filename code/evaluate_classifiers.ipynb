{
  "nbformat": 4,
  "nbformat_minor": 0,
  "metadata": {
    "colab": {
      "provenance": [],
      "gpuType": "T4"
    },
    "kernelspec": {
      "name": "python3",
      "display_name": "Python 3"
    },
    "language_info": {
      "name": "python"
    },
    "accelerator": "GPU",
    "gpuClass": "standard",
    "widgets": {
      "application/vnd.jupyter.widget-state+json": {
        "67be7a9ecf294ba1946b2fa02d1fb4ba": {
          "model_module": "@jupyter-widgets/controls",
          "model_name": "HBoxModel",
          "model_module_version": "1.5.0",
          "state": {
            "_dom_classes": [],
            "_model_module": "@jupyter-widgets/controls",
            "_model_module_version": "1.5.0",
            "_model_name": "HBoxModel",
            "_view_count": null,
            "_view_module": "@jupyter-widgets/controls",
            "_view_module_version": "1.5.0",
            "_view_name": "HBoxView",
            "box_style": "",
            "children": [
              "IPY_MODEL_dc75febaa16c4323a484025018bfb3b5",
              "IPY_MODEL_2e787f10da7c400dac3db9e912b94f64",
              "IPY_MODEL_f55c54beaa6f4e48b637f510f09f71d8"
            ],
            "layout": "IPY_MODEL_4efaea1f28ed4abb99b39d118a1ac7b3"
          }
        },
        "dc75febaa16c4323a484025018bfb3b5": {
          "model_module": "@jupyter-widgets/controls",
          "model_name": "HTMLModel",
          "model_module_version": "1.5.0",
          "state": {
            "_dom_classes": [],
            "_model_module": "@jupyter-widgets/controls",
            "_model_module_version": "1.5.0",
            "_model_name": "HTMLModel",
            "_view_count": null,
            "_view_module": "@jupyter-widgets/controls",
            "_view_module_version": "1.5.0",
            "_view_name": "HTMLView",
            "description": "",
            "description_tooltip": null,
            "layout": "IPY_MODEL_83880b28b2264cb1be70e183ae563203",
            "placeholder": "​",
            "style": "IPY_MODEL_a71e1da7a7714b2a95eda52b5ea02017",
            "value": "Downloading builder script: 100%"
          }
        },
        "2e787f10da7c400dac3db9e912b94f64": {
          "model_module": "@jupyter-widgets/controls",
          "model_name": "FloatProgressModel",
          "model_module_version": "1.5.0",
          "state": {
            "_dom_classes": [],
            "_model_module": "@jupyter-widgets/controls",
            "_model_module_version": "1.5.0",
            "_model_name": "FloatProgressModel",
            "_view_count": null,
            "_view_module": "@jupyter-widgets/controls",
            "_view_module_version": "1.5.0",
            "_view_name": "ProgressView",
            "bar_style": "success",
            "description": "",
            "description_tooltip": null,
            "layout": "IPY_MODEL_970b15b0b4af4304b6d6871f6baf88ec",
            "max": 7363,
            "min": 0,
            "orientation": "horizontal",
            "style": "IPY_MODEL_d942d9f4d0674362a153d991aa5beb9f",
            "value": 7363
          }
        },
        "f55c54beaa6f4e48b637f510f09f71d8": {
          "model_module": "@jupyter-widgets/controls",
          "model_name": "HTMLModel",
          "model_module_version": "1.5.0",
          "state": {
            "_dom_classes": [],
            "_model_module": "@jupyter-widgets/controls",
            "_model_module_version": "1.5.0",
            "_model_name": "HTMLModel",
            "_view_count": null,
            "_view_module": "@jupyter-widgets/controls",
            "_view_module_version": "1.5.0",
            "_view_name": "HTMLView",
            "description": "",
            "description_tooltip": null,
            "layout": "IPY_MODEL_6f03c49f308a4533b797fe2ae02e8166",
            "placeholder": "​",
            "style": "IPY_MODEL_6a152289b6184a2393eeb6140924b3f1",
            "value": " 7.36k/7.36k [00:00&lt;00:00, 272kB/s]"
          }
        },
        "4efaea1f28ed4abb99b39d118a1ac7b3": {
          "model_module": "@jupyter-widgets/base",
          "model_name": "LayoutModel",
          "model_module_version": "1.2.0",
          "state": {
            "_model_module": "@jupyter-widgets/base",
            "_model_module_version": "1.2.0",
            "_model_name": "LayoutModel",
            "_view_count": null,
            "_view_module": "@jupyter-widgets/base",
            "_view_module_version": "1.2.0",
            "_view_name": "LayoutView",
            "align_content": null,
            "align_items": null,
            "align_self": null,
            "border": null,
            "bottom": null,
            "display": null,
            "flex": null,
            "flex_flow": null,
            "grid_area": null,
            "grid_auto_columns": null,
            "grid_auto_flow": null,
            "grid_auto_rows": null,
            "grid_column": null,
            "grid_gap": null,
            "grid_row": null,
            "grid_template_areas": null,
            "grid_template_columns": null,
            "grid_template_rows": null,
            "height": null,
            "justify_content": null,
            "justify_items": null,
            "left": null,
            "margin": null,
            "max_height": null,
            "max_width": null,
            "min_height": null,
            "min_width": null,
            "object_fit": null,
            "object_position": null,
            "order": null,
            "overflow": null,
            "overflow_x": null,
            "overflow_y": null,
            "padding": null,
            "right": null,
            "top": null,
            "visibility": null,
            "width": null
          }
        },
        "83880b28b2264cb1be70e183ae563203": {
          "model_module": "@jupyter-widgets/base",
          "model_name": "LayoutModel",
          "model_module_version": "1.2.0",
          "state": {
            "_model_module": "@jupyter-widgets/base",
            "_model_module_version": "1.2.0",
            "_model_name": "LayoutModel",
            "_view_count": null,
            "_view_module": "@jupyter-widgets/base",
            "_view_module_version": "1.2.0",
            "_view_name": "LayoutView",
            "align_content": null,
            "align_items": null,
            "align_self": null,
            "border": null,
            "bottom": null,
            "display": null,
            "flex": null,
            "flex_flow": null,
            "grid_area": null,
            "grid_auto_columns": null,
            "grid_auto_flow": null,
            "grid_auto_rows": null,
            "grid_column": null,
            "grid_gap": null,
            "grid_row": null,
            "grid_template_areas": null,
            "grid_template_columns": null,
            "grid_template_rows": null,
            "height": null,
            "justify_content": null,
            "justify_items": null,
            "left": null,
            "margin": null,
            "max_height": null,
            "max_width": null,
            "min_height": null,
            "min_width": null,
            "object_fit": null,
            "object_position": null,
            "order": null,
            "overflow": null,
            "overflow_x": null,
            "overflow_y": null,
            "padding": null,
            "right": null,
            "top": null,
            "visibility": null,
            "width": null
          }
        },
        "a71e1da7a7714b2a95eda52b5ea02017": {
          "model_module": "@jupyter-widgets/controls",
          "model_name": "DescriptionStyleModel",
          "model_module_version": "1.5.0",
          "state": {
            "_model_module": "@jupyter-widgets/controls",
            "_model_module_version": "1.5.0",
            "_model_name": "DescriptionStyleModel",
            "_view_count": null,
            "_view_module": "@jupyter-widgets/base",
            "_view_module_version": "1.2.0",
            "_view_name": "StyleView",
            "description_width": ""
          }
        },
        "970b15b0b4af4304b6d6871f6baf88ec": {
          "model_module": "@jupyter-widgets/base",
          "model_name": "LayoutModel",
          "model_module_version": "1.2.0",
          "state": {
            "_model_module": "@jupyter-widgets/base",
            "_model_module_version": "1.2.0",
            "_model_name": "LayoutModel",
            "_view_count": null,
            "_view_module": "@jupyter-widgets/base",
            "_view_module_version": "1.2.0",
            "_view_name": "LayoutView",
            "align_content": null,
            "align_items": null,
            "align_self": null,
            "border": null,
            "bottom": null,
            "display": null,
            "flex": null,
            "flex_flow": null,
            "grid_area": null,
            "grid_auto_columns": null,
            "grid_auto_flow": null,
            "grid_auto_rows": null,
            "grid_column": null,
            "grid_gap": null,
            "grid_row": null,
            "grid_template_areas": null,
            "grid_template_columns": null,
            "grid_template_rows": null,
            "height": null,
            "justify_content": null,
            "justify_items": null,
            "left": null,
            "margin": null,
            "max_height": null,
            "max_width": null,
            "min_height": null,
            "min_width": null,
            "object_fit": null,
            "object_position": null,
            "order": null,
            "overflow": null,
            "overflow_x": null,
            "overflow_y": null,
            "padding": null,
            "right": null,
            "top": null,
            "visibility": null,
            "width": null
          }
        },
        "d942d9f4d0674362a153d991aa5beb9f": {
          "model_module": "@jupyter-widgets/controls",
          "model_name": "ProgressStyleModel",
          "model_module_version": "1.5.0",
          "state": {
            "_model_module": "@jupyter-widgets/controls",
            "_model_module_version": "1.5.0",
            "_model_name": "ProgressStyleModel",
            "_view_count": null,
            "_view_module": "@jupyter-widgets/base",
            "_view_module_version": "1.2.0",
            "_view_name": "StyleView",
            "bar_color": null,
            "description_width": ""
          }
        },
        "6f03c49f308a4533b797fe2ae02e8166": {
          "model_module": "@jupyter-widgets/base",
          "model_name": "LayoutModel",
          "model_module_version": "1.2.0",
          "state": {
            "_model_module": "@jupyter-widgets/base",
            "_model_module_version": "1.2.0",
            "_model_name": "LayoutModel",
            "_view_count": null,
            "_view_module": "@jupyter-widgets/base",
            "_view_module_version": "1.2.0",
            "_view_name": "LayoutView",
            "align_content": null,
            "align_items": null,
            "align_self": null,
            "border": null,
            "bottom": null,
            "display": null,
            "flex": null,
            "flex_flow": null,
            "grid_area": null,
            "grid_auto_columns": null,
            "grid_auto_flow": null,
            "grid_auto_rows": null,
            "grid_column": null,
            "grid_gap": null,
            "grid_row": null,
            "grid_template_areas": null,
            "grid_template_columns": null,
            "grid_template_rows": null,
            "height": null,
            "justify_content": null,
            "justify_items": null,
            "left": null,
            "margin": null,
            "max_height": null,
            "max_width": null,
            "min_height": null,
            "min_width": null,
            "object_fit": null,
            "object_position": null,
            "order": null,
            "overflow": null,
            "overflow_x": null,
            "overflow_y": null,
            "padding": null,
            "right": null,
            "top": null,
            "visibility": null,
            "width": null
          }
        },
        "6a152289b6184a2393eeb6140924b3f1": {
          "model_module": "@jupyter-widgets/controls",
          "model_name": "DescriptionStyleModel",
          "model_module_version": "1.5.0",
          "state": {
            "_model_module": "@jupyter-widgets/controls",
            "_model_module_version": "1.5.0",
            "_model_name": "DescriptionStyleModel",
            "_view_count": null,
            "_view_module": "@jupyter-widgets/base",
            "_view_module_version": "1.2.0",
            "_view_name": "StyleView",
            "description_width": ""
          }
        },
        "7d8996ca886d444790de8cb8a30ab65d": {
          "model_module": "@jupyter-widgets/controls",
          "model_name": "HBoxModel",
          "model_module_version": "1.5.0",
          "state": {
            "_dom_classes": [],
            "_model_module": "@jupyter-widgets/controls",
            "_model_module_version": "1.5.0",
            "_model_name": "HBoxModel",
            "_view_count": null,
            "_view_module": "@jupyter-widgets/controls",
            "_view_module_version": "1.5.0",
            "_view_name": "HBoxView",
            "box_style": "",
            "children": [
              "IPY_MODEL_7e411e5438aa49609ab4b7637fd298a8",
              "IPY_MODEL_cbd9bb1bb4304ff4a2b27b696564e0cd",
              "IPY_MODEL_3755a9ab4cbb4a2389943168edab1b39"
            ],
            "layout": "IPY_MODEL_69dda637f9d744e28a48f73236adbf3e"
          }
        },
        "7e411e5438aa49609ab4b7637fd298a8": {
          "model_module": "@jupyter-widgets/controls",
          "model_name": "HTMLModel",
          "model_module_version": "1.5.0",
          "state": {
            "_dom_classes": [],
            "_model_module": "@jupyter-widgets/controls",
            "_model_module_version": "1.5.0",
            "_model_name": "HTMLModel",
            "_view_count": null,
            "_view_module": "@jupyter-widgets/controls",
            "_view_module_version": "1.5.0",
            "_view_name": "HTMLView",
            "description": "",
            "description_tooltip": null,
            "layout": "IPY_MODEL_bdc0caefea144538973aad9ee921a420",
            "placeholder": "​",
            "style": "IPY_MODEL_e7809ec1ed27465ba1817959b204363e",
            "value": "Downloading builder script: 100%"
          }
        },
        "cbd9bb1bb4304ff4a2b27b696564e0cd": {
          "model_module": "@jupyter-widgets/controls",
          "model_name": "FloatProgressModel",
          "model_module_version": "1.5.0",
          "state": {
            "_dom_classes": [],
            "_model_module": "@jupyter-widgets/controls",
            "_model_module_version": "1.5.0",
            "_model_name": "FloatProgressModel",
            "_view_count": null,
            "_view_module": "@jupyter-widgets/controls",
            "_view_module_version": "1.5.0",
            "_view_name": "ProgressView",
            "bar_style": "success",
            "description": "",
            "description_tooltip": null,
            "layout": "IPY_MODEL_bc7b71aabccc4d85b262a46caefcf2fb",
            "max": 6771,
            "min": 0,
            "orientation": "horizontal",
            "style": "IPY_MODEL_14a8ce96ce0949119cfce247a24997bf",
            "value": 6771
          }
        },
        "3755a9ab4cbb4a2389943168edab1b39": {
          "model_module": "@jupyter-widgets/controls",
          "model_name": "HTMLModel",
          "model_module_version": "1.5.0",
          "state": {
            "_dom_classes": [],
            "_model_module": "@jupyter-widgets/controls",
            "_model_module_version": "1.5.0",
            "_model_name": "HTMLModel",
            "_view_count": null,
            "_view_module": "@jupyter-widgets/controls",
            "_view_module_version": "1.5.0",
            "_view_name": "HTMLView",
            "description": "",
            "description_tooltip": null,
            "layout": "IPY_MODEL_b5b522b34a5941ca8ab8ac5c481810ba",
            "placeholder": "​",
            "style": "IPY_MODEL_1ab4f57cb035434ebf879f937138720f",
            "value": " 6.77k/6.77k [00:00&lt;00:00, 318kB/s]"
          }
        },
        "69dda637f9d744e28a48f73236adbf3e": {
          "model_module": "@jupyter-widgets/base",
          "model_name": "LayoutModel",
          "model_module_version": "1.2.0",
          "state": {
            "_model_module": "@jupyter-widgets/base",
            "_model_module_version": "1.2.0",
            "_model_name": "LayoutModel",
            "_view_count": null,
            "_view_module": "@jupyter-widgets/base",
            "_view_module_version": "1.2.0",
            "_view_name": "LayoutView",
            "align_content": null,
            "align_items": null,
            "align_self": null,
            "border": null,
            "bottom": null,
            "display": null,
            "flex": null,
            "flex_flow": null,
            "grid_area": null,
            "grid_auto_columns": null,
            "grid_auto_flow": null,
            "grid_auto_rows": null,
            "grid_column": null,
            "grid_gap": null,
            "grid_row": null,
            "grid_template_areas": null,
            "grid_template_columns": null,
            "grid_template_rows": null,
            "height": null,
            "justify_content": null,
            "justify_items": null,
            "left": null,
            "margin": null,
            "max_height": null,
            "max_width": null,
            "min_height": null,
            "min_width": null,
            "object_fit": null,
            "object_position": null,
            "order": null,
            "overflow": null,
            "overflow_x": null,
            "overflow_y": null,
            "padding": null,
            "right": null,
            "top": null,
            "visibility": null,
            "width": null
          }
        },
        "bdc0caefea144538973aad9ee921a420": {
          "model_module": "@jupyter-widgets/base",
          "model_name": "LayoutModel",
          "model_module_version": "1.2.0",
          "state": {
            "_model_module": "@jupyter-widgets/base",
            "_model_module_version": "1.2.0",
            "_model_name": "LayoutModel",
            "_view_count": null,
            "_view_module": "@jupyter-widgets/base",
            "_view_module_version": "1.2.0",
            "_view_name": "LayoutView",
            "align_content": null,
            "align_items": null,
            "align_self": null,
            "border": null,
            "bottom": null,
            "display": null,
            "flex": null,
            "flex_flow": null,
            "grid_area": null,
            "grid_auto_columns": null,
            "grid_auto_flow": null,
            "grid_auto_rows": null,
            "grid_column": null,
            "grid_gap": null,
            "grid_row": null,
            "grid_template_areas": null,
            "grid_template_columns": null,
            "grid_template_rows": null,
            "height": null,
            "justify_content": null,
            "justify_items": null,
            "left": null,
            "margin": null,
            "max_height": null,
            "max_width": null,
            "min_height": null,
            "min_width": null,
            "object_fit": null,
            "object_position": null,
            "order": null,
            "overflow": null,
            "overflow_x": null,
            "overflow_y": null,
            "padding": null,
            "right": null,
            "top": null,
            "visibility": null,
            "width": null
          }
        },
        "e7809ec1ed27465ba1817959b204363e": {
          "model_module": "@jupyter-widgets/controls",
          "model_name": "DescriptionStyleModel",
          "model_module_version": "1.5.0",
          "state": {
            "_model_module": "@jupyter-widgets/controls",
            "_model_module_version": "1.5.0",
            "_model_name": "DescriptionStyleModel",
            "_view_count": null,
            "_view_module": "@jupyter-widgets/base",
            "_view_module_version": "1.2.0",
            "_view_name": "StyleView",
            "description_width": ""
          }
        },
        "bc7b71aabccc4d85b262a46caefcf2fb": {
          "model_module": "@jupyter-widgets/base",
          "model_name": "LayoutModel",
          "model_module_version": "1.2.0",
          "state": {
            "_model_module": "@jupyter-widgets/base",
            "_model_module_version": "1.2.0",
            "_model_name": "LayoutModel",
            "_view_count": null,
            "_view_module": "@jupyter-widgets/base",
            "_view_module_version": "1.2.0",
            "_view_name": "LayoutView",
            "align_content": null,
            "align_items": null,
            "align_self": null,
            "border": null,
            "bottom": null,
            "display": null,
            "flex": null,
            "flex_flow": null,
            "grid_area": null,
            "grid_auto_columns": null,
            "grid_auto_flow": null,
            "grid_auto_rows": null,
            "grid_column": null,
            "grid_gap": null,
            "grid_row": null,
            "grid_template_areas": null,
            "grid_template_columns": null,
            "grid_template_rows": null,
            "height": null,
            "justify_content": null,
            "justify_items": null,
            "left": null,
            "margin": null,
            "max_height": null,
            "max_width": null,
            "min_height": null,
            "min_width": null,
            "object_fit": null,
            "object_position": null,
            "order": null,
            "overflow": null,
            "overflow_x": null,
            "overflow_y": null,
            "padding": null,
            "right": null,
            "top": null,
            "visibility": null,
            "width": null
          }
        },
        "14a8ce96ce0949119cfce247a24997bf": {
          "model_module": "@jupyter-widgets/controls",
          "model_name": "ProgressStyleModel",
          "model_module_version": "1.5.0",
          "state": {
            "_model_module": "@jupyter-widgets/controls",
            "_model_module_version": "1.5.0",
            "_model_name": "ProgressStyleModel",
            "_view_count": null,
            "_view_module": "@jupyter-widgets/base",
            "_view_module_version": "1.2.0",
            "_view_name": "StyleView",
            "bar_color": null,
            "description_width": ""
          }
        },
        "b5b522b34a5941ca8ab8ac5c481810ba": {
          "model_module": "@jupyter-widgets/base",
          "model_name": "LayoutModel",
          "model_module_version": "1.2.0",
          "state": {
            "_model_module": "@jupyter-widgets/base",
            "_model_module_version": "1.2.0",
            "_model_name": "LayoutModel",
            "_view_count": null,
            "_view_module": "@jupyter-widgets/base",
            "_view_module_version": "1.2.0",
            "_view_name": "LayoutView",
            "align_content": null,
            "align_items": null,
            "align_self": null,
            "border": null,
            "bottom": null,
            "display": null,
            "flex": null,
            "flex_flow": null,
            "grid_area": null,
            "grid_auto_columns": null,
            "grid_auto_flow": null,
            "grid_auto_rows": null,
            "grid_column": null,
            "grid_gap": null,
            "grid_row": null,
            "grid_template_areas": null,
            "grid_template_columns": null,
            "grid_template_rows": null,
            "height": null,
            "justify_content": null,
            "justify_items": null,
            "left": null,
            "margin": null,
            "max_height": null,
            "max_width": null,
            "min_height": null,
            "min_width": null,
            "object_fit": null,
            "object_position": null,
            "order": null,
            "overflow": null,
            "overflow_x": null,
            "overflow_y": null,
            "padding": null,
            "right": null,
            "top": null,
            "visibility": null,
            "width": null
          }
        },
        "1ab4f57cb035434ebf879f937138720f": {
          "model_module": "@jupyter-widgets/controls",
          "model_name": "DescriptionStyleModel",
          "model_module_version": "1.5.0",
          "state": {
            "_model_module": "@jupyter-widgets/controls",
            "_model_module_version": "1.5.0",
            "_model_name": "DescriptionStyleModel",
            "_view_count": null,
            "_view_module": "@jupyter-widgets/base",
            "_view_module_version": "1.2.0",
            "_view_name": "StyleView",
            "description_width": ""
          }
        }
      }
    }
  },
  "cells": [
    {
      "cell_type": "markdown",
      "source": [
        "In this Notebook, we compare the performance of different models that we fine-tuned. It is mainly based on HuggingFace's [Evaluate](https://huggingface.co/docs/evaluate/index) library.\n",
        "\n"
      ],
      "metadata": {
        "id": "LALocUNZ_ALQ"
      }
    },
    {
      "cell_type": "code",
      "execution_count": 1,
      "metadata": {
        "colab": {
          "base_uri": "https://localhost:8080/"
        },
        "id": "YCBRKqQq4wbQ",
        "outputId": "fcc1a588-46d4-46df-da2b-b71e45afa714"
      },
      "outputs": [
        {
          "output_type": "stream",
          "name": "stdout",
          "text": [
            "/content\n",
            "Cloning into 'FakeNewsChallenge'...\n",
            "remote: Enumerating objects: 83, done.\u001b[K\n",
            "remote: Counting objects: 100% (83/83), done.\u001b[K\n",
            "remote: Compressing objects: 100% (63/63), done.\u001b[K\n",
            "remote: Total 83 (delta 32), reused 63 (delta 15), pack-reused 0\u001b[K\n",
            "Unpacking objects: 100% (83/83), 4.85 MiB | 3.92 MiB/s, done.\n"
          ]
        }
      ],
      "source": [
        "import os\n",
        "%cd /content\n",
        "!git clone --recursive https://github.com/BiteKirby3/FakeNewsChallenge\n",
        "root_dir = \"/content/FakeNewsChallenge/fnc-1-baseline\"\n",
        "os.chdir(root_dir)"
      ]
    },
    {
      "cell_type": "code",
      "source": [
        "!pip install transformers datasets evaluate"
      ],
      "metadata": {
        "colab": {
          "base_uri": "https://localhost:8080/"
        },
        "id": "tGJ0meVe6sAy",
        "outputId": "90314fe9-cba9-4777-a6eb-189079f25622"
      },
      "execution_count": 10,
      "outputs": [
        {
          "output_type": "stream",
          "name": "stdout",
          "text": [
            "Looking in indexes: https://pypi.org/simple, https://us-python.pkg.dev/colab-wheels/public/simple/\n",
            "Collecting transformers\n",
            "  Downloading transformers-4.28.1-py3-none-any.whl (7.0 MB)\n",
            "\u001b[2K     \u001b[90m━━━━━━━━━━━━━━━━━━━━━━━━━━━━━━━━━━━━━━━━\u001b[0m \u001b[32m7.0/7.0 MB\u001b[0m \u001b[31m69.8 MB/s\u001b[0m eta \u001b[36m0:00:00\u001b[0m\n",
            "\u001b[?25hCollecting datasets\n",
            "  Downloading datasets-2.12.0-py3-none-any.whl (474 kB)\n",
            "\u001b[2K     \u001b[90m━━━━━━━━━━━━━━━━━━━━━━━━━━━━━━━━━━━━━━\u001b[0m \u001b[32m474.6/474.6 kB\u001b[0m \u001b[31m41.8 MB/s\u001b[0m eta \u001b[36m0:00:00\u001b[0m\n",
            "\u001b[?25hCollecting evaluate\n",
            "  Downloading evaluate-0.4.0-py3-none-any.whl (81 kB)\n",
            "\u001b[2K     \u001b[90m━━━━━━━━━━━━━━━━━━━━━━━━━━━━━━━━━━━━━━━━\u001b[0m \u001b[32m81.4/81.4 kB\u001b[0m \u001b[31m11.7 MB/s\u001b[0m eta \u001b[36m0:00:00\u001b[0m\n",
            "\u001b[?25hRequirement already satisfied: tqdm>=4.27 in /usr/local/lib/python3.10/dist-packages (from transformers) (4.65.0)\n",
            "Requirement already satisfied: pyyaml>=5.1 in /usr/local/lib/python3.10/dist-packages (from transformers) (6.0)\n",
            "Collecting tokenizers!=0.11.3,<0.14,>=0.11.1\n",
            "  Downloading tokenizers-0.13.3-cp310-cp310-manylinux_2_17_x86_64.manylinux2014_x86_64.whl (7.8 MB)\n",
            "\u001b[2K     \u001b[90m━━━━━━━━━━━━━━━━━━━━━━━━━━━━━━━━━━━━━━━━\u001b[0m \u001b[32m7.8/7.8 MB\u001b[0m \u001b[31m108.0 MB/s\u001b[0m eta \u001b[36m0:00:00\u001b[0m\n",
            "\u001b[?25hCollecting huggingface-hub<1.0,>=0.11.0\n",
            "  Downloading huggingface_hub-0.14.1-py3-none-any.whl (224 kB)\n",
            "\u001b[2K     \u001b[90m━━━━━━━━━━━━━━━━━━━━━━━━━━━━━━━━━━━━━━\u001b[0m \u001b[32m224.5/224.5 kB\u001b[0m \u001b[31m26.7 MB/s\u001b[0m eta \u001b[36m0:00:00\u001b[0m\n",
            "\u001b[?25hRequirement already satisfied: filelock in /usr/local/lib/python3.10/dist-packages (from transformers) (3.12.0)\n",
            "Requirement already satisfied: regex!=2019.12.17 in /usr/local/lib/python3.10/dist-packages (from transformers) (2022.10.31)\n",
            "Requirement already satisfied: numpy>=1.17 in /usr/local/lib/python3.10/dist-packages (from transformers) (1.22.4)\n",
            "Requirement already satisfied: packaging>=20.0 in /usr/local/lib/python3.10/dist-packages (from transformers) (23.1)\n",
            "Requirement already satisfied: requests in /usr/local/lib/python3.10/dist-packages (from transformers) (2.27.1)\n",
            "Collecting multiprocess\n",
            "  Downloading multiprocess-0.70.14-py310-none-any.whl (134 kB)\n",
            "\u001b[2K     \u001b[90m━━━━━━━━━━━━━━━━━━━━━━━━━━━━━━━━━━━━━━\u001b[0m \u001b[32m134.3/134.3 kB\u001b[0m \u001b[31m18.6 MB/s\u001b[0m eta \u001b[36m0:00:00\u001b[0m\n",
            "\u001b[?25hRequirement already satisfied: pandas in /usr/local/lib/python3.10/dist-packages (from datasets) (1.5.3)\n",
            "Collecting responses<0.19\n",
            "  Downloading responses-0.18.0-py3-none-any.whl (38 kB)\n",
            "Collecting xxhash\n",
            "  Downloading xxhash-3.2.0-cp310-cp310-manylinux_2_17_x86_64.manylinux2014_x86_64.whl (212 kB)\n",
            "\u001b[2K     \u001b[90m━━━━━━━━━━━━━━━━━━━━━━━━━━━━━━━━━━━━━━\u001b[0m \u001b[32m212.5/212.5 kB\u001b[0m \u001b[31m27.8 MB/s\u001b[0m eta \u001b[36m0:00:00\u001b[0m\n",
            "\u001b[?25hRequirement already satisfied: fsspec[http]>=2021.11.1 in /usr/local/lib/python3.10/dist-packages (from datasets) (2023.4.0)\n",
            "Requirement already satisfied: pyarrow>=8.0.0 in /usr/local/lib/python3.10/dist-packages (from datasets) (9.0.0)\n",
            "Collecting aiohttp\n",
            "  Downloading aiohttp-3.8.4-cp310-cp310-manylinux_2_17_x86_64.manylinux2014_x86_64.whl (1.0 MB)\n",
            "\u001b[2K     \u001b[90m━━━━━━━━━━━━━━━━━━━━━━━━━━━━━━━━━━━━━━━━\u001b[0m \u001b[32m1.0/1.0 MB\u001b[0m \u001b[31m70.1 MB/s\u001b[0m eta \u001b[36m0:00:00\u001b[0m\n",
            "\u001b[?25hCollecting dill<0.3.7,>=0.3.0\n",
            "  Downloading dill-0.3.6-py3-none-any.whl (110 kB)\n",
            "\u001b[2K     \u001b[90m━━━━━━━━━━━━━━━━━━━━━━━━━━━━━━━━━━━━━━\u001b[0m \u001b[32m110.5/110.5 kB\u001b[0m \u001b[31m16.8 MB/s\u001b[0m eta \u001b[36m0:00:00\u001b[0m\n",
            "\u001b[?25hCollecting aiosignal>=1.1.2\n",
            "  Downloading aiosignal-1.3.1-py3-none-any.whl (7.6 kB)\n",
            "Collecting yarl<2.0,>=1.0\n",
            "  Downloading yarl-1.9.2-cp310-cp310-manylinux_2_17_x86_64.manylinux2014_x86_64.whl (268 kB)\n",
            "\u001b[2K     \u001b[90m━━━━━━━━━━━━━━━━━━━━━━━━━━━━━━━━━━━━━━\u001b[0m \u001b[32m268.8/268.8 kB\u001b[0m \u001b[31m33.7 MB/s\u001b[0m eta \u001b[36m0:00:00\u001b[0m\n",
            "\u001b[?25hRequirement already satisfied: attrs>=17.3.0 in /usr/local/lib/python3.10/dist-packages (from aiohttp->datasets) (23.1.0)\n",
            "Collecting multidict<7.0,>=4.5\n",
            "  Downloading multidict-6.0.4-cp310-cp310-manylinux_2_17_x86_64.manylinux2014_x86_64.whl (114 kB)\n",
            "\u001b[2K     \u001b[90m━━━━━━━━━━━━━━━━━━━━━━━━━━━━━━━━━━━━━━\u001b[0m \u001b[32m114.5/114.5 kB\u001b[0m \u001b[31m16.9 MB/s\u001b[0m eta \u001b[36m0:00:00\u001b[0m\n",
            "\u001b[?25hRequirement already satisfied: charset-normalizer<4.0,>=2.0 in /usr/local/lib/python3.10/dist-packages (from aiohttp->datasets) (2.0.12)\n",
            "Collecting async-timeout<5.0,>=4.0.0a3\n",
            "  Downloading async_timeout-4.0.2-py3-none-any.whl (5.8 kB)\n",
            "Collecting frozenlist>=1.1.1\n",
            "  Downloading frozenlist-1.3.3-cp310-cp310-manylinux_2_5_x86_64.manylinux1_x86_64.manylinux_2_17_x86_64.manylinux2014_x86_64.whl (149 kB)\n",
            "\u001b[2K     \u001b[90m━━━━━━━━━━━━━━━━━━━━━━━━━━━━━━━━━━━━━━\u001b[0m \u001b[32m149.6/149.6 kB\u001b[0m \u001b[31m21.9 MB/s\u001b[0m eta \u001b[36m0:00:00\u001b[0m\n",
            "\u001b[?25hRequirement already satisfied: typing-extensions>=3.7.4.3 in /usr/local/lib/python3.10/dist-packages (from huggingface-hub<1.0,>=0.11.0->transformers) (4.5.0)\n",
            "Requirement already satisfied: urllib3<1.27,>=1.21.1 in /usr/local/lib/python3.10/dist-packages (from requests->transformers) (1.26.15)\n",
            "Requirement already satisfied: idna<4,>=2.5 in /usr/local/lib/python3.10/dist-packages (from requests->transformers) (3.4)\n",
            "Requirement already satisfied: certifi>=2017.4.17 in /usr/local/lib/python3.10/dist-packages (from requests->transformers) (2022.12.7)\n",
            "Requirement already satisfied: python-dateutil>=2.8.1 in /usr/local/lib/python3.10/dist-packages (from pandas->datasets) (2.8.2)\n",
            "Requirement already satisfied: pytz>=2020.1 in /usr/local/lib/python3.10/dist-packages (from pandas->datasets) (2022.7.1)\n",
            "Requirement already satisfied: six>=1.5 in /usr/local/lib/python3.10/dist-packages (from python-dateutil>=2.8.1->pandas->datasets) (1.16.0)\n",
            "Installing collected packages: tokenizers, xxhash, multidict, frozenlist, dill, async-timeout, yarl, responses, multiprocess, huggingface-hub, aiosignal, transformers, aiohttp, datasets, evaluate\n",
            "Successfully installed aiohttp-3.8.4 aiosignal-1.3.1 async-timeout-4.0.2 datasets-2.12.0 dill-0.3.6 evaluate-0.4.0 frozenlist-1.3.3 huggingface-hub-0.14.1 multidict-6.0.4 multiprocess-0.70.14 responses-0.18.0 tokenizers-0.13.3 transformers-4.28.1 xxhash-3.2.0 yarl-1.9.2\n"
          ]
        }
      ]
    },
    {
      "cell_type": "code",
      "source": [
        "import pandas as pd"
      ],
      "metadata": {
        "id": "-jElL7oS5gWp"
      },
      "execution_count": 3,
      "outputs": []
    },
    {
      "cell_type": "code",
      "source": [
        "#read the generated csv\n",
        "bert = pd.read_csv('/content/FakeNewsChallenge/result/BERT2023-04-26.csv')  \n",
        "distillbert = pd.read_csv('/content/FakeNewsChallenge/result/DistilBERT2023-04-27.csv')  \n",
        "roberta = pd.read_csv('/content/FakeNewsChallenge/result/RoBERTa2023-04-29.csv')  \n",
        "xlnet = pd.read_csv('/content/FakeNewsChallenge/result/XLNet2023-05-01.csv')  "
      ],
      "metadata": {
        "id": "cHEAuh7R5SVj"
      },
      "execution_count": 4,
      "outputs": []
    },
    {
      "cell_type": "markdown",
      "source": [
        "#Confusion Matrix"
      ],
      "metadata": {
        "id": "qxfZCBmD5W_T"
      }
    },
    {
      "cell_type": "code",
      "source": [
        "from utils.score import report_score"
      ],
      "metadata": {
        "id": "gAi_tZUf5P2j"
      },
      "execution_count": 2,
      "outputs": []
    },
    {
      "cell_type": "code",
      "source": [
        "print(\"Confusion matrix for BERT:\")\n",
        "report_score(bert[\"ACTUAL_STANCE\"], bert[\"PREDICT_STANCE\"])"
      ],
      "metadata": {
        "colab": {
          "base_uri": "https://localhost:8080/"
        },
        "id": "SosfpvsS5Uqc",
        "outputId": "414a653f-3d9b-45a7-a022-f4fd1f61a6b8"
      },
      "execution_count": 6,
      "outputs": [
        {
          "output_type": "stream",
          "name": "stdout",
          "text": [
            "Confusion matrix for BERT:\n",
            "-------------------------------------------------------------\n",
            "|           |   agree   | disagree  |  discuss  | unrelated |\n",
            "-------------------------------------------------------------\n",
            "|   agree   |   1229    |    53     |    576    |    45     |\n",
            "-------------------------------------------------------------\n",
            "| disagree  |    156    |    270    |    218    |    53     |\n",
            "-------------------------------------------------------------\n",
            "|  discuss  |    325    |    76     |   3944    |    119    |\n",
            "-------------------------------------------------------------\n",
            "| unrelated |    14     |    14     |    185    |   18136   |\n",
            "-------------------------------------------------------------\n",
            "Score: 10328.0 out of 11651.25\t(88.64284947966956%)\n"
          ]
        },
        {
          "output_type": "execute_result",
          "data": {
            "text/plain": [
              "88.64284947966956"
            ]
          },
          "metadata": {},
          "execution_count": 6
        }
      ]
    },
    {
      "cell_type": "code",
      "source": [
        "print(\"Confusion matrix for DistillBERT:\")\n",
        "report_score(distillbert[\"ACTUAL_STANCE\"], distillbert[\"PREDICT_STANCE\"])"
      ],
      "metadata": {
        "colab": {
          "base_uri": "https://localhost:8080/"
        },
        "id": "uDR-w-wD5_3s",
        "outputId": "8208a529-27c0-49bb-8123-42412dcb9c19"
      },
      "execution_count": 7,
      "outputs": [
        {
          "output_type": "stream",
          "name": "stdout",
          "text": [
            "Confusion matrix for DistillBERT:\n",
            "-------------------------------------------------------------\n",
            "|           |   agree   | disagree  |  discuss  | unrelated |\n",
            "-------------------------------------------------------------\n",
            "|   agree   |   1238    |    61     |    535    |    69     |\n",
            "-------------------------------------------------------------\n",
            "| disagree  |    353    |    55     |    225    |    64     |\n",
            "-------------------------------------------------------------\n",
            "|  discuss  |    630    |    89     |   3563    |    182    |\n",
            "-------------------------------------------------------------\n",
            "| unrelated |    78     |    32     |    292    |   17947   |\n",
            "-------------------------------------------------------------\n",
            "Score: 9816.0 out of 11651.25\t(84.2484711940779%)\n"
          ]
        },
        {
          "output_type": "execute_result",
          "data": {
            "text/plain": [
              "84.2484711940779"
            ]
          },
          "metadata": {},
          "execution_count": 7
        }
      ]
    },
    {
      "cell_type": "code",
      "source": [
        "print(\"Confusion matrix for RoBERTa:\")\n",
        "report_score(roberta[\"ACTUAL_STANCE\"], roberta[\"PREDICT_STANCE\"])"
      ],
      "metadata": {
        "colab": {
          "base_uri": "https://localhost:8080/"
        },
        "id": "xGrO5sc96FyZ",
        "outputId": "c9ac4b14-876b-47eb-de88-82e62f3138b4"
      },
      "execution_count": 8,
      "outputs": [
        {
          "output_type": "stream",
          "name": "stdout",
          "text": [
            "Confusion matrix for RoBERTa:\n",
            "-------------------------------------------------------------\n",
            "|           |   agree   | disagree  |  discuss  | unrelated |\n",
            "-------------------------------------------------------------\n",
            "|   agree   |   1383    |    53     |    432    |    35     |\n",
            "-------------------------------------------------------------\n",
            "| disagree  |    198    |    335    |    144    |    20     |\n",
            "-------------------------------------------------------------\n",
            "|  discuss  |    337    |    105    |   3940    |    82     |\n",
            "-------------------------------------------------------------\n",
            "| unrelated |    11     |     7     |    90     |   18241   |\n",
            "-------------------------------------------------------------\n",
            "Score: 10535.5 out of 11651.25\t(90.42377427314666%)\n"
          ]
        },
        {
          "output_type": "execute_result",
          "data": {
            "text/plain": [
              "90.42377427314666"
            ]
          },
          "metadata": {},
          "execution_count": 8
        }
      ]
    },
    {
      "cell_type": "code",
      "source": [
        "print(\"Confusion matrix for XLNet:\")\n",
        "report_score(xlnet[\"ACTUAL_STANCE\"], xlnet[\"PREDICT_STANCE\"])"
      ],
      "metadata": {
        "colab": {
          "base_uri": "https://localhost:8080/"
        },
        "id": "EA54I6Ik6OZi",
        "outputId": "9424673a-8108-438b-82ad-dc0cd4e50ed1"
      },
      "execution_count": 9,
      "outputs": [
        {
          "output_type": "stream",
          "name": "stdout",
          "text": [
            "Confusion matrix for XLNet:\n",
            "-------------------------------------------------------------\n",
            "|           |   agree   | disagree  |  discuss  | unrelated |\n",
            "-------------------------------------------------------------\n",
            "|   agree   |   1411    |    64     |    401    |    27     |\n",
            "-------------------------------------------------------------\n",
            "| disagree  |    207    |    302    |    144    |    44     |\n",
            "-------------------------------------------------------------\n",
            "|  discuss  |    503    |    145    |   3717    |    99     |\n",
            "-------------------------------------------------------------\n",
            "| unrelated |    68     |    27     |    184    |   18070   |\n",
            "-------------------------------------------------------------\n",
            "Score: 10313.5 out of 11651.25\t(88.5183993133784%)\n"
          ]
        },
        {
          "output_type": "execute_result",
          "data": {
            "text/plain": [
              "88.5183993133784"
            ]
          },
          "metadata": {},
          "execution_count": 9
        }
      ]
    },
    {
      "cell_type": "markdown",
      "source": [
        "#Other metrics"
      ],
      "metadata": {
        "id": "HzJaF8E--54z"
      }
    },
    {
      "cell_type": "markdown",
      "source": [
        "##Metric description"
      ],
      "metadata": {
        "id": "4aZ39oaGEaoV"
      }
    },
    {
      "cell_type": "code",
      "source": [
        "import evaluate"
      ],
      "metadata": {
        "id": "rQ_3ov7X6x2A"
      },
      "execution_count": 12,
      "outputs": []
    },
    {
      "cell_type": "code",
      "source": [
        "precision = evaluate.load(\"precision\")\n",
        "print(precision.description)"
      ],
      "metadata": {
        "colab": {
          "base_uri": "https://localhost:8080/"
        },
        "id": "dRYEmiLm8PrB",
        "outputId": "ff019304-3f88-428d-be9d-a6c3d73fafb2"
      },
      "execution_count": 18,
      "outputs": [
        {
          "output_type": "stream",
          "name": "stdout",
          "text": [
            "\n",
            "Precision is the fraction of correctly labeled positive examples out of all of the examples that were labeled as positive. It is computed via the equation:\n",
            "Precision = TP / (TP + FP)\n",
            "where TP is the True positives (i.e. the examples correctly labeled as positive) and FP is the False positive examples (i.e. the examples incorrectly labeled as positive).\n",
            "\n"
          ]
        }
      ]
    },
    {
      "cell_type": "code",
      "source": [
        "recall = evaluate.load(\"recall\")\n",
        "print(recall.description)"
      ],
      "metadata": {
        "colab": {
          "base_uri": "https://localhost:8080/",
          "height": 156,
          "referenced_widgets": [
            "67be7a9ecf294ba1946b2fa02d1fb4ba",
            "dc75febaa16c4323a484025018bfb3b5",
            "2e787f10da7c400dac3db9e912b94f64",
            "f55c54beaa6f4e48b637f510f09f71d8",
            "4efaea1f28ed4abb99b39d118a1ac7b3",
            "83880b28b2264cb1be70e183ae563203",
            "a71e1da7a7714b2a95eda52b5ea02017",
            "970b15b0b4af4304b6d6871f6baf88ec",
            "d942d9f4d0674362a153d991aa5beb9f",
            "6f03c49f308a4533b797fe2ae02e8166",
            "6a152289b6184a2393eeb6140924b3f1"
          ]
        },
        "id": "UAOuyICK-F-f",
        "outputId": "6b6d49f1-c322-405e-fb36-ceae02808686"
      },
      "execution_count": 19,
      "outputs": [
        {
          "output_type": "display_data",
          "data": {
            "text/plain": [
              "Downloading builder script:   0%|          | 0.00/7.36k [00:00<?, ?B/s]"
            ],
            "application/vnd.jupyter.widget-view+json": {
              "version_major": 2,
              "version_minor": 0,
              "model_id": "67be7a9ecf294ba1946b2fa02d1fb4ba"
            }
          },
          "metadata": {}
        },
        {
          "output_type": "stream",
          "name": "stdout",
          "text": [
            "\n",
            "Recall is the fraction of the positive examples that were correctly labeled by the model as positive. It can be computed with the equation:\n",
            "Recall = TP / (TP + FN)\n",
            "Where TP is the true positives and FN is the false negatives.\n",
            "\n"
          ]
        }
      ]
    },
    {
      "cell_type": "code",
      "source": [
        "f1 = evaluate.load(\"f1\")\n",
        "print(f1.description)"
      ],
      "metadata": {
        "colab": {
          "base_uri": "https://localhost:8080/",
          "height": 118,
          "referenced_widgets": [
            "7d8996ca886d444790de8cb8a30ab65d",
            "7e411e5438aa49609ab4b7637fd298a8",
            "cbd9bb1bb4304ff4a2b27b696564e0cd",
            "3755a9ab4cbb4a2389943168edab1b39",
            "69dda637f9d744e28a48f73236adbf3e",
            "bdc0caefea144538973aad9ee921a420",
            "e7809ec1ed27465ba1817959b204363e",
            "bc7b71aabccc4d85b262a46caefcf2fb",
            "14a8ce96ce0949119cfce247a24997bf",
            "b5b522b34a5941ca8ab8ac5c481810ba",
            "1ab4f57cb035434ebf879f937138720f"
          ]
        },
        "id": "70PSZ_08-ZG0",
        "outputId": "c9182110-8584-4aa8-9a3b-456da22640c0"
      },
      "execution_count": 20,
      "outputs": [
        {
          "output_type": "display_data",
          "data": {
            "text/plain": [
              "Downloading builder script:   0%|          | 0.00/6.77k [00:00<?, ?B/s]"
            ],
            "application/vnd.jupyter.widget-view+json": {
              "version_major": 2,
              "version_minor": 0,
              "model_id": "7d8996ca886d444790de8cb8a30ab65d"
            }
          },
          "metadata": {}
        },
        {
          "output_type": "stream",
          "name": "stdout",
          "text": [
            "\n",
            "The F1 score is the harmonic mean of the precision and recall. It can be computed with the equation:\n",
            "F1 = 2 * (precision * recall) / (precision + recall)\n",
            "\n"
          ]
        }
      ]
    },
    {
      "cell_type": "code",
      "source": [
        "def compute_metric(df):\n",
        "  #unrelated\n",
        "  label2id = {\"unrelated\": 1, \"discuss\": 0, \"agree\": 0, \"disagree\": 0}\n",
        "  df_unrelated = df.replace({\"ACTUAL_STANCE\": label2id})\n",
        "  df_unrelated = df_unrelated.replace({\"PREDICT_STANCE\": label2id})\n",
        "  f1_unrelated = f1.compute(references=df_unrelated[\"ACTUAL_STANCE\"], predictions=df_unrelated[\"PREDICT_STANCE\"])\n",
        "  #discuss\n",
        "  label2id = {\"unrelated\": 0, \"discuss\": 1, \"agree\": 0, \"disagree\": 0}\n",
        "  df_discuss = df.replace({\"ACTUAL_STANCE\": label2id})\n",
        "  df_discuss = df_discuss.replace({\"PREDICT_STANCE\": label2id})\n",
        "  f1_discuss = f1.compute(references=df_discuss[\"ACTUAL_STANCE\"], predictions=df_discuss[\"PREDICT_STANCE\"])\n",
        "  #agree\n",
        "  label2id = {\"unrelated\": 0, \"discuss\": 0, \"agree\": 1, \"disagree\": 0}\n",
        "  df_agree = df.replace({\"ACTUAL_STANCE\": label2id})\n",
        "  df_agree = df_agree.replace({\"PREDICT_STANCE\": label2id})\n",
        "  f1_agree = f1.compute(references=df_agree[\"ACTUAL_STANCE\"], predictions=df_agree[\"PREDICT_STANCE\"])\n",
        "  #disagree\n",
        "  label2id = {\"unrelated\": 0, \"discuss\": 0, \"agree\": 0, \"disagree\": 1}\n",
        "  df_disagree = df.replace({\"ACTUAL_STANCE\": label2id})\n",
        "  df_disagree = df_disagree.replace({\"PREDICT_STANCE\": label2id})\n",
        "  f1_disagree = f1.compute(references=df_disagree[\"ACTUAL_STANCE\"], predictions=df_disagree[\"PREDICT_STANCE\"])\n",
        "\n",
        "  #f1 macro\n",
        "  f1_macro = (f1_unrelated['f1']+f1_discuss['f1']+f1_agree['f1']+f1_disagree['f1'])/4\n",
        "  \n",
        "  return {'f1_macro': f1_macro, 'f1_unrelated': f1_unrelated['f1'],'f1_discuss': f1_discuss['f1'],'f1_agree': f1_agree['f1'],'f1_disagree': f1_disagree['f1']}"
      ],
      "metadata": {
        "id": "c9T0d-MrEitU"
      },
      "execution_count": 49,
      "outputs": []
    },
    {
      "cell_type": "markdown",
      "source": [
        "##BERT"
      ],
      "metadata": {
        "id": "IpFXf_39CYEt"
      }
    },
    {
      "cell_type": "code",
      "source": [
        "eval_bert = compute_metric(bert)\n",
        "eval_bert['FNC_score'] = 0.8864284947966956\n",
        "eval_bert"
      ],
      "metadata": {
        "id": "oAPk75juHbYh",
        "outputId": "0cffee8a-1a88-41ff-93c3-e22f47b7d33e",
        "colab": {
          "base_uri": "https://localhost:8080/"
        }
      },
      "execution_count": 60,
      "outputs": [
        {
          "output_type": "execute_result",
          "data": {
            "text/plain": [
              "{'f1_macro': 0.7481941592492709,\n",
              " 'f1_unrelated': 0.9882840172197701,\n",
              " 'f1_discuss': 0.840311068498988,\n",
              " 'f1_agree': 0.677695064791839,\n",
              " 'f1_disagree': 0.48648648648648657,\n",
              " 'FNC_score': 0.8864284947966956}"
            ]
          },
          "metadata": {},
          "execution_count": 60
        }
      ]
    },
    {
      "cell_type": "markdown",
      "source": [
        "##DistillBert"
      ],
      "metadata": {
        "id": "wqKfPoO3Jhad"
      }
    },
    {
      "cell_type": "code",
      "source": [
        "eval_distillbert = compute_metric(distillbert)\n",
        "eval_distillbert['FNC_score'] = 0.842484711940779\n",
        "eval_distillbert"
      ],
      "metadata": {
        "id": "fj210EETJldC",
        "outputId": "3205fb80-6bed-41a7-d2b8-219ffa556938",
        "colab": {
          "base_uri": "https://localhost:8080/"
        }
      },
      "execution_count": 61,
      "outputs": [
        {
          "output_type": "execute_result",
          "data": {
            "text/plain": [
              "{'f1_macro': 0.6180800405962034,\n",
              " 'f1_unrelated': 0.9804157220507498,\n",
              " 'f1_discuss': 0.7848882035466462,\n",
              " 'f1_agree': 0.5892432175154687,\n",
              " 'f1_disagree': 0.1177730192719486,\n",
              " 'FNC_score': 0.842484711940779}"
            ]
          },
          "metadata": {},
          "execution_count": 61
        }
      ]
    },
    {
      "cell_type": "markdown",
      "source": [
        "##RoBERTa"
      ],
      "metadata": {
        "id": "3OR2uusdJrkF"
      }
    },
    {
      "cell_type": "code",
      "source": [
        "eval_roberta = compute_metric(roberta)\n",
        "eval_roberta['FNC_score'] = 0.9042377427314666\n",
        "eval_roberta"
      ],
      "metadata": {
        "id": "rlU85uYAJtBB",
        "outputId": "59e38220-e031-41da-cfd8-54c48df3028f",
        "colab": {
          "base_uri": "https://localhost:8080/"
        }
      },
      "execution_count": 62,
      "outputs": [
        {
          "output_type": "execute_result",
          "data": {
            "text/plain": [
              "{'f1_macro': 0.7859190858120435,\n",
              " 'f1_unrelated': 0.9933291583848395,\n",
              " 'f1_discuss': 0.8687982359426683,\n",
              " 'f1_agree': 0.7218162839248434,\n",
              " 'f1_disagree': 0.559732664995823,\n",
              " 'FNC_score': 0.9042377427314666}"
            ]
          },
          "metadata": {},
          "execution_count": 62
        }
      ]
    },
    {
      "cell_type": "markdown",
      "source": [
        "##XLNet"
      ],
      "metadata": {
        "id": "TR8tNGIcJ7h6"
      }
    },
    {
      "cell_type": "code",
      "source": [
        "eval_xlnet = compute_metric(xlnet)\n",
        "eval_xlnet['FNC_score'] = 0.885183993133784\n",
        "eval_xlnet"
      ],
      "metadata": {
        "id": "lew5ObiLJ9dy",
        "outputId": "3f14e008-c628-46e4-c48a-5e02275d5eaa",
        "colab": {
          "base_uri": "https://localhost:8080/"
        }
      },
      "execution_count": 63,
      "outputs": [
        {
          "output_type": "execute_result",
          "data": {
            "text/plain": [
              "{'f1_macro': 0.7501947828055202,\n",
              " 'f1_unrelated': 0.9877285522971385,\n",
              " 'f1_discuss': 0.8343434343434344,\n",
              " 'f1_agree': 0.6896383186705768,\n",
              " 'f1_disagree': 0.4890688259109312,\n",
              " 'FNC_score': 0.885183993133784}"
            ]
          },
          "metadata": {},
          "execution_count": 63
        }
      ]
    },
    {
      "cell_type": "markdown",
      "source": [
        "#Visualization"
      ],
      "metadata": {
        "id": "tm-g5ubxKaDI"
      }
    },
    {
      "cell_type": "code",
      "source": [
        "from evaluate.visualization import radar_plot"
      ],
      "metadata": {
        "id": "GYso1MKuKeiD"
      },
      "execution_count": 54,
      "outputs": []
    },
    {
      "cell_type": "code",
      "source": [
        "data = [\n",
        "    #result of UCLMR\n",
        "   {'f1_macro': 0.55832,\n",
        "    'f1_unrelated': 0.97340,\n",
        "    'f1_discuss': 0.74770,\n",
        "    'f1_agree': 0.47355,\n",
        "    'f1_disagree': 0.03862,\n",
        "    'FNC_score': 0.8191},\n",
        "   eval_bert,\n",
        "   eval_distillbert,\n",
        "   eval_roberta,\n",
        "   eval_xlnet\n",
        "   ]\n",
        "model_names = [\"UCLMR\", \"BERT\", \"DistillBERT\", \"RoBERTa\", \"XLNet\"]\n",
        "plot = radar_plot(data=data, model_names=model_names)\n",
        "plot.show()"
      ],
      "metadata": {
        "id": "7czbPdweKpYI",
        "outputId": "67f4588e-4ca3-44e5-f285-dc6abee6be25",
        "colab": {
          "base_uri": "https://localhost:8080/",
          "height": 487
        }
      },
      "execution_count": 64,
      "outputs": [
        {
          "output_type": "display_data",
          "data": {
            "text/plain": [
              "<Figure size 640x480 with 7 Axes>"
            ],
            "image/png": "[encoded data removed]"
          },
          "metadata": {}
        }
      ]
    }
  ]
}